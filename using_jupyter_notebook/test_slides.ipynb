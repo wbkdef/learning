{
 "cells": [
  {
   "cell_type": "markdown",
   "metadata": {
    "slideshow": {
     "slide_type": "slide"
    }
   },
   "source": [
    "# Test Presentation"
   ]
  },
  {
   "cell_type": "markdown",
   "metadata": {
    "slideshow": {
     "slide_type": "slide"
    }
   },
   "source": [
    "## Slide 1"
   ]
  },
  {
   "cell_type": "markdown",
   "metadata": {
    "slideshow": {
     "slide_type": "subslide"
    }
   },
   "source": [
    "This is some text"
   ]
  },
  {
   "cell_type": "code",
   "execution_count": 2,
   "metadata": {
    "slideshow": {
     "slide_type": "fragment"
    }
   },
   "outputs": [
    {
     "data": {
      "text/plain": [
       "[1, 3, 5]"
      ]
     },
     "execution_count": 2,
     "metadata": {},
     "output_type": "execute_result"
    }
   ],
   "source": [
    "x = [1, 3, 5]; x"
   ]
  },
  {
   "cell_type": "code",
   "execution_count": 3,
   "metadata": {
    "slideshow": {
     "slide_type": "skip"
    }
   },
   "outputs": [],
   "source": [
    "import itertools as it"
   ]
  },
  {
   "cell_type": "code",
   "execution_count": 6,
   "metadata": {
    "slideshow": {
     "slide_type": "fragment"
    }
   },
   "outputs": [
    {
     "data": {
      "text/plain": [
       "[1, 4, 9]"
      ]
     },
     "execution_count": 6,
     "metadata": {},
     "output_type": "execute_result"
    }
   ],
   "source": [
    "list(it.accumulate(x))"
   ]
  },
  {
   "cell_type": "markdown",
   "metadata": {
    "slideshow": {
     "slide_type": "notes"
    }
   },
   "source": [
    "These are notes"
   ]
  },
  {
   "cell_type": "markdown",
   "metadata": {
    "slideshow": {
     "slide_type": "slide"
    }
   },
   "source": [
    "## Slide 2"
   ]
  },
  {
   "cell_type": "markdown",
   "metadata": {
    "slideshow": {
     "slide_type": "fragment"
    }
   },
   "source": [
    "This is some more text"
   ]
  },
  {
   "cell_type": "markdown",
   "metadata": {},
   "source": [
    "Then convert this to slides with:\n",
    "\n",
    "jupyter nbconvert FILE_NAME.ipynb --to slides --post serve"
   ]
  },
  {
   "cell_type": "code",
   "execution_count": 7,
   "metadata": {},
   "outputs": [
    {
     "name": "stdout",
     "output_type": "stream",
     "text": [
      " Volume in drive C is Acer\n",
      " Volume Serial Number is 6AE0-12D3\n",
      "\n",
      " Directory of C:\\Users\\wbruc\\Desktop\\git_repos\\learning\n",
      "\n",
      "2018-03-29  08:43 PM    <DIR>          .\n",
      "2018-03-29  08:43 PM    <DIR>          ..\n",
      "2018-03-29  08:43 PM    <DIR>          .ipynb_checkpoints\n",
      "2018-03-16  01:53 PM    <DIR>          .mypy_cache\n",
      "2018-03-16  07:47 AM    <DIR>          Data\n",
      "2018-03-16  07:41 AM                70 README.md\n",
      "2018-03-29  07:41 PM             2,543 test_slides.ipynb\n",
      "               2 File(s)          2,613 bytes\n",
      "               5 Dir(s)  19,907,833,856 bytes free\n"
     ]
    }
   ],
   "source": [
    "!dir C:\\Users\\wbruc\\Desktop\\git_repos\\learning"
   ]
  },
  {
   "cell_type": "code",
   "execution_count": 9,
   "metadata": {},
   "outputs": [
    {
     "name": "stderr",
     "output_type": "stream",
     "text": [
      "Traceback (most recent call last):\n",
      "  File \"C:\\Users\\wbruc\\Anaconda3\\Scripts\\jupyter-nbconvert-script.py\", line 10, in <module>\n",
      "    sys.exit(main())\n",
      "  File \"C:\\Users\\wbruc\\Anaconda3\\lib\\site-packages\\jupyter_core\\application.py\", line 267, in launch_instance\n",
      "    return super(JupyterApp, cls).launch_instance(argv=argv, **kwargs)\n",
      "  File \"C:\\Users\\wbruc\\Anaconda3\\lib\\site-packages\\traitlets\\config\\application.py\", line 658, in launch_instance\n",
      "    app.start()\n",
      "  File \"C:\\Users\\wbruc\\Anaconda3\\lib\\site-packages\\nbconvert\\nbconvertapp.py\", line 325, in start\n",
      "    self.convert_notebooks()\n",
      "  File \"C:\\Users\\wbruc\\Anaconda3\\lib\\site-packages\\nbconvert\\nbconvertapp.py\", line 483, in convert_notebooks\n",
      "    self.exporter = cls(config=self.config)\n",
      "  File \"C:\\Users\\wbruc\\Anaconda3\\lib\\site-packages\\nbconvert\\exporters\\templateexporter.py\", line 243, in __init__\n",
      "    super(TemplateExporter, self).__init__(config=config, **kw)\n",
      "  File \"C:\\Users\\wbruc\\Anaconda3\\lib\\site-packages\\nbconvert\\exporters\\exporter.py\", line 105, in __init__\n",
      "    self._init_preprocessors()\n",
      "  File \"C:\\Users\\wbruc\\Anaconda3\\lib\\site-packages\\nbconvert\\exporters\\exporter.py\", line 259, in _init_preprocessors\n",
      "    self.register_preprocessor(preprocessor, enabled=True)\n",
      "  File \"C:\\Users\\wbruc\\Anaconda3\\lib\\site-packages\\nbconvert\\exporters\\exporter.py\", line 220, in register_preprocessor\n",
      "    preprocessor_cls = import_item(preprocessor)\n",
      "  File \"C:\\Users\\wbruc\\Anaconda3\\lib\\site-packages\\traitlets\\utils\\importstring.py\", line 34, in import_item\n",
      "    module = __import__(package, fromlist=[obj])\n",
      "ModuleNotFoundError: No module named 'jupyter_contrib_nbextensions'\n"
     ]
    }
   ],
   "source": [
    "!jupyter nbconvert C:\\Users\\wbruc\\Desktop\\git_repos\\learning\\test_slides.ipynb --to slides --post serve"
   ]
  }
 ],
 "metadata": {
  "celltoolbar": "Slideshow",
  "kernelspec": {
   "display_name": "Python 3",
   "language": "python",
   "name": "python3"
  },
  "language_info": {
   "codemirror_mode": {
    "name": "ipython",
    "version": 3
   },
   "file_extension": ".py",
   "mimetype": "text/x-python",
   "name": "python",
   "nbconvert_exporter": "python",
   "pygments_lexer": "ipython3",
   "version": "3.6.3"
  }
 },
 "nbformat": 4,
 "nbformat_minor": 2
}
