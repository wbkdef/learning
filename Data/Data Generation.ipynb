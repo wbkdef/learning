{
 "cells": [
  {
   "cell_type": "markdown",
   "metadata": {},
   "source": [
    "## Data Generation"
   ]
  },
  {
   "cell_type": "markdown",
   "metadata": {},
   "source": [
    "### Classification - Mutually Exclusive Classes"
   ]
  },
  {
   "cell_type": "code",
   "execution_count": 1,
   "metadata": {},
   "outputs": [
    {
     "data": {
      "text/plain": [
       "(array([[-0.59014953, -1.46843074, -2.37948116,  0.24275662,  0.58212279],\n",
       "        [ 1.69920417, -0.36964902,  0.9879662 , -0.98321849, -0.20716589],\n",
       "        [-1.4589441 , -1.87767825, -2.33447027,  1.64116115,  0.11092259],\n",
       "        [ 1.08818489, -1.09949081, -0.85154275, -0.95575554,  0.7549978 ],\n",
       "        [ 0.08253394,  1.43211622,  1.82863107, -0.00681262, -0.62347739],\n",
       "        [-3.91614928,  2.65252468, -0.75404954,  1.82805727,  0.89433233],\n",
       "        [-2.85825576,  1.56781555, -1.12207467,  1.2388683 ,  0.88774846]]),\n",
       " array([0, 2, 0, 2, 3, 1, 1]))"
      ]
     },
     "execution_count": 1,
     "metadata": {},
     "output_type": "execute_result"
    }
   ],
   "source": [
    "from sklearn.datasets import samples_generator\n",
    "X, y = samples_generator.make_classification(n_samples=7, n_features=5, n_informative=3, n_clusters_per_class=1, n_classes=4, n_redundant=1, random_state=42)\n",
    "X, y"
   ]
  },
  {
   "cell_type": "markdown",
   "metadata": {},
   "source": [
    "### Classification - Non-Mutually Exclusive Classes"
   ]
  },
  {
   "cell_type": "code",
   "execution_count": 3,
   "metadata": {},
   "outputs": [
    {
     "data": {
      "text/plain": [
       "(array([[ 16.,  13.,   8.,  13.,  10.],\n",
       "        [ 17.,  13.,   8.,  18.,  13.],\n",
       "        [  7.,   6.,   7.,  12.,  15.]]), array([[1, 1, 1, 0, 1, 1],\n",
       "        [1, 1, 1, 1, 1, 0],\n",
       "        [1, 1, 1, 1, 1, 0]]))"
      ]
     },
     "execution_count": 3,
     "metadata": {},
     "output_type": "execute_result"
    }
   ],
   "source": [
    "X, y = samples_generator.make_multilabel_classification(n_samples=3, n_features=5, n_labels=7, n_classes=6, random_state=42)\n",
    "X, y"
   ]
  },
  {
   "cell_type": "code",
   "execution_count": null,
   "metadata": {},
   "outputs": [],
   "source": []
  }
 ],
 "metadata": {
  "kernelspec": {
   "display_name": "Python 3",
   "language": "python",
   "name": "python3"
  },
  "language_info": {
   "codemirror_mode": {
    "name": "ipython",
    "version": 3
   },
   "file_extension": ".py",
   "mimetype": "text/x-python",
   "name": "python",
   "nbconvert_exporter": "python",
   "pygments_lexer": "ipython3",
   "version": "3.6.3"
  }
 },
 "nbformat": 4,
 "nbformat_minor": 2
}
